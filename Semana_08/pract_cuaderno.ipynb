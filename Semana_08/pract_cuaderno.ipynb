{
 "cells": [
  {
   "attachments": {},
   "cell_type": "markdown",
   "metadata": {},
   "source": [
    "VARIABLES Y TIPOS"
   ]
  },
  {
   "attachments": {},
   "cell_type": "markdown",
   "metadata": {},
   "source": [
    "Nombres reservados en Python\n",
    "\n",
    "'''\n",
    "and, as, assert, break, class, continue, def, del, elif, else, except, exec, finally, for, from,\n",
    "global, if, import, in, is, lambda, not, or, pass, print, raise, return, try, while, with, yield.\n",
    "'''"
   ]
  },
  {
   "cell_type": "code",
   "execution_count": 8,
   "metadata": {},
   "outputs": [
    {
     "name": "stdout",
     "output_type": "stream",
     "text": [
      "10\n",
      "Hola mundo\n"
     ]
    }
   ],
   "source": [
    "#inicializando variables \n",
    "x = 10\n",
    "\n",
    "print (x)\n",
    "\n",
    "#Se puede utilizar comillas dobles o simples para crear una cadena\n",
    "cadena = \"Hola mundo\"\n",
    "\n",
    "print(cadena)"
   ]
  },
  {
   "cell_type": "code",
   "execution_count": 9,
   "metadata": {},
   "outputs": [
    {
     "name": "stdout",
     "output_type": "stream",
     "text": [
      "10 10 10\n"
     ]
    }
   ],
   "source": [
    "#Asigna un mismo valor a tres variables\n",
    "x = y = z = 10\n",
    "\n",
    "print(x, y, z)"
   ]
  },
  {
   "cell_type": "code",
   "execution_count": 10,
   "metadata": {},
   "outputs": [
    {
     "data": {
      "text/plain": [
       "int"
      ]
     },
     "execution_count": 10,
     "metadata": {},
     "output_type": "execute_result"
    }
   ],
   "source": [
    "#La funcion type () permite conocer el tipo de una variable\n",
    "type(x)"
   ]
  },
  {
   "cell_type": "code",
   "execution_count": 11,
   "metadata": {},
   "outputs": [
    {
     "data": {
      "text/plain": [
       "str"
      ]
     },
     "execution_count": 11,
     "metadata": {},
     "output_type": "execute_result"
    }
   ],
   "source": [
    "type(cadena)"
   ]
  },
  {
   "cell_type": "code",
   "execution_count": 12,
   "metadata": {},
   "outputs": [],
   "source": [
    "#Se puede cambiar los valores de las varables y el tipo se cambia\n",
    "#automaticamente\n",
    "\n",
    "x = \"Hola mundo\"\n",
    "cadena = 10"
   ]
  },
  {
   "cell_type": "code",
   "execution_count": 13,
   "metadata": {},
   "outputs": [
    {
     "data": {
      "text/plain": [
       "str"
      ]
     },
     "execution_count": 13,
     "metadata": {},
     "output_type": "execute_result"
    }
   ],
   "source": [
    "type(x)"
   ]
  },
  {
   "cell_type": "code",
   "execution_count": 14,
   "metadata": {},
   "outputs": [
    {
     "data": {
      "text/plain": [
       "int"
      ]
     },
     "execution_count": 14,
     "metadata": {},
     "output_type": "execute_result"
    }
   ],
   "source": [
    "type(cadena)"
   ]
  },
  {
   "cell_type": "code",
   "execution_count": 15,
   "metadata": {},
   "outputs": [],
   "source": [
    "#Cuando una variable tiene un valor constante, por conveción, el\n",
    "#nombre se escribe en mayusculas\n",
    "\n",
    "SEGUNDOS_POR_DIA = 60 * 60 * 60\n",
    "PI = 3.14"
   ]
  },
  {
   "attachments": {},
   "cell_type": "markdown",
   "metadata": {},
   "source": [
    "CADENAS"
   ]
  },
  {
   "attachments": {},
   "cell_type": "markdown",
   "metadata": {},
   "source": [
    "Las cadenas pueden ser definidas usando comilla simple ( '' ) o comillas doble ( \"\" ). Una característica de las cadenas es que son inmutables, esto quiere decir que no se pueden cambiar los caracteres que contiene. El caracter \\ sirve para escapar caracteres como \\n o \\t."
   ]
  },
  {
   "cell_type": "code",
   "execution_count": 16,
   "metadata": {},
   "outputs": [
    {
     "name": "stdout",
     "output_type": "stream",
     "text": [
      "Hola \n",
      "mundo\n",
      "Hola mundo\n"
     ]
    }
   ],
   "source": [
    "#Inicializando cadenas\n",
    "\n",
    "cadena1 =\"Hola \"\n",
    "cadena2 = \"mundo\"\n",
    "\n",
    "print(cadena1)\n",
    "print(cadena2)\n",
    "\n",
    "concat_cadenas = cadena1 + cadena2  #Concatenación de cadenas\n",
    "\n",
    "print(concat_cadenas)"
   ]
  },
  {
   "cell_type": "code",
   "execution_count": 17,
   "metadata": {},
   "outputs": [
    {
     "name": "stdout",
     "output_type": "stream",
     "text": [
      "Hola mundo 3\n"
     ]
    }
   ],
   "source": [
    "#Para concatenar un número y una cadena se debe usar la función \n",
    "# str()\n",
    "\n",
    "num_cadena = concat_cadenas + ' ' + str(3) \n",
    "#se agrega una cadena vacia para agregar un espacio\n",
    "\n",
    "print(num_cadena)"
   ]
  },
  {
   "attachments": {},
   "cell_type": "markdown",
   "metadata": {},
   "source": [
    "Para concatenar codenas se recomienda el uso de la función format(), en lugar del viejo estilo del operador '+'."
   ]
  },
  {
   "cell_type": "code",
   "execution_count": 18,
   "metadata": {},
   "outputs": [
    {
     "name": "stdout",
     "output_type": "stream",
     "text": [
      "Hola  mundo 3\n"
     ]
    }
   ],
   "source": [
    "#El valor de la variable se va a imprimir en el lugar donde se \n",
    "#encuetra {} en la cadena\n",
    "\n",
    "num_cadena = \"{} {} {}\". format(cadena1, cadena2, 3)\n",
    "\n",
    "print(num_cadena)"
   ]
  },
  {
   "attachments": {},
   "cell_type": "markdown",
   "metadata": {},
   "source": [
    "Por medio de la función format(), se puede cambiar el orden en que se imprimen las varables:"
   ]
  },
  {
   "cell_type": "code",
   "execution_count": 19,
   "metadata": {},
   "outputs": [
    {
     "name": "stdout",
     "output_type": "stream",
     "text": [
      "Cambia el orden: mundo 3 Hola \n"
     ]
    }
   ],
   "source": [
    "#Cuando se agrega un número dentrode (#), el valor la variable que \n",
    "#se encuentra es esa posición dentro de la función format(), sera impreso.\n",
    "\n",
    "num_cadena = \"Cambia el orden: {1} {2} {0}\". format(cadena1, cadena2, 3)\n",
    "\n",
    "print(num_cadena)"
   ]
  },
  {
   "attachments": {},
   "cell_type": "markdown",
   "metadata": {},
   "source": [
    "OPERADORES"
   ]
  },
  {
   "attachments": {},
   "cell_type": "markdown",
   "metadata": {},
   "source": [
    "Aritmeticos: +, -, *,  /"
   ]
  },
  {
   "cell_type": "code",
   "execution_count": 20,
   "metadata": {},
   "outputs": [
    {
     "name": "stdout",
     "output_type": "stream",
     "text": [
      "6\n",
      "18\n",
      "6\n",
      "2.0\n",
      "0\n",
      "20.4\n",
      "4\n"
     ]
    }
   ],
   "source": [
    "#Para el exponente se puede usar el asterisco\n",
    "\n",
    "print(1 + 5)\n",
    "print(6 * 3)\n",
    "print(10 -4)\n",
    "print(100 / 50)\n",
    "print(10 % 2)\n",
    "print((20 - 3) * (10 + 2) / 10)\n",
    "print(2**2)"
   ]
  },
  {
   "attachments": {},
   "cell_type": "markdown",
   "metadata": {},
   "source": [
    "Booleanos: and, not, or"
   ]
  },
  {
   "cell_type": "code",
   "execution_count": 21,
   "metadata": {},
   "outputs": [
    {
     "data": {
      "text/plain": [
       "False"
      ]
     },
     "execution_count": 21,
     "metadata": {},
     "output_type": "execute_result"
    }
   ],
   "source": [
    "False and True"
   ]
  },
  {
   "attachments": {},
   "cell_type": "markdown",
   "metadata": {},
   "source": [
    "Comparación: >, <, =>, <=, =="
   ]
  },
  {
   "cell_type": "code",
   "execution_count": 22,
   "metadata": {},
   "outputs": [
    {
     "name": "stdout",
     "output_type": "stream",
     "text": [
      "False\n",
      "True\n",
      "True\n",
      "False\n",
      "True\n"
     ]
    }
   ],
   "source": [
    "print(7 < 5) #False\n",
    "\n",
    "print(7 > 5) #Verdadero\n",
    "\n",
    "print((11 * 3)+2 == 36 - 1) #Verdadero\n",
    "\n",
    "print((11 * 3)+2 >= 36) #False\n",
    "\n",
    "print(\"curso\" != \"CuRsO\") #Verdadero"
   ]
  },
  {
   "attachments": {},
   "cell_type": "markdown",
   "metadata": {},
   "source": [
    "LISTAS"
   ]
  },
  {
   "attachments": {},
   "cell_type": "markdown",
   "metadata": {},
   "source": [
    "ºBasicamente son valores que están separados por comas dentro de paréntesis cuadrados.\n",
    "ºEstá compuesta por cualquier cantidad y/o tipo de datos, ya sean cadenas, caracteres, números e inclusive otras listas.\n",
    "ºSe puede acceder a las listas por medio de índices, estos índices comienzan desde 0 hasta el número de elementos menos 1.\n",
    "ºLas listas son mutables."
   ]
  },
  {
   "cell_type": "code",
   "execution_count": 23,
   "metadata": {},
   "outputs": [
    {
     "name": "stdout",
     "output_type": "stream",
     "text": [
      "[31, 28, 31, 30, 31, 30, 31, 31, 30, 31, 30, 31]\n",
      "31\n",
      "31\n",
      "31\n"
     ]
    }
   ],
   "source": [
    "#Declaración de una lista simple\n",
    "\n",
    "lista_diasDelMes = [31,28,31,30,31,30,31,31,30,31,30,31]\n",
    "\n",
    "print(lista_diasDelMes)             #Imprimir la lista completa\n",
    "print(lista_diasDelMes[0])          #Imprimir elemento 1\n",
    "print(lista_diasDelMes[6])          #Imprimir elemento 7\n",
    "print(lista_diasDelMes[11])         #Impriimir elemento 12"
   ]
  },
  {
   "cell_type": "code",
   "execution_count": 24,
   "metadata": {},
   "outputs": [
    {
     "name": "stdout",
     "output_type": "stream",
     "text": [
      "[['cero', 0], ['uno', 1, 'UNO'], ['dos', 2], ['tres', 3], ['cautro', 4], ['X', 5]]\n",
      "['cero', 0]\n",
      "['uno', 1, 'UNO']\n",
      "dos\n",
      "2\n",
      "uno\n",
      "1\n",
      "UNO\n"
     ]
    }
   ],
   "source": [
    "#Declaracion de lista anidadas\n",
    "\n",
    "lista_numeros = [['cero', 0],['uno',1,'UNO'],['dos', 2],['tres', 3],['cautro', 4],['X', 5]]\n",
    "\n",
    "print(lista_numeros)            #imprime lista completa\n",
    "\n",
    "print(lista_numeros[0])         #imprime el elemento 0 de la lista\n",
    "print(lista_numeros[1])         #imprime el elemento 1 de la lista\n",
    "\n",
    "print(lista_numeros[2][0])      #Imprime el primer elemento de la lista en la posición 2\n",
    "print(lista_numeros[2][1])      #Imprime el segundo elemento de la lista en la posición 2\n",
    "\n",
    "print(lista_numeros[1][0])\n",
    "print(lista_numeros[1][1])\n",
    "print(lista_numeros[1][2])"
   ]
  },
  {
   "cell_type": "code",
   "execution_count": 25,
   "metadata": {},
   "outputs": [
    {
     "name": "stdout",
     "output_type": "stream",
     "text": [
      "['cinco', 5]\n"
     ]
    }
   ],
   "source": [
    "#Se cambia el valor de uno de los elementos de la lista\n",
    "\n",
    "lista_numeros[5][0] = \"cinco\"\n",
    "print(lista_numeros[5])"
   ]
  },
  {
   "attachments": {},
   "cell_type": "markdown",
   "metadata": {},
   "source": [
    "TUPLAS"
   ]
  },
  {
   "attachments": {},
   "cell_type": "markdown",
   "metadata": {},
   "source": [
    "°Son parecida a las listas, valores separados por una coma.\n",
    "°Comparadas con las listas, las tuplas no son mutables.\n",
    "°Se pueden aplicar las mismas operaciones que en las listas y su ventaja es que consumen menos memoria para almacenarse.\n",
    "°Se crean, ya sea utilizando paréntesis o simplemente separando los valores por comas."
   ]
  },
  {
   "cell_type": "code",
   "execution_count": 26,
   "metadata": {},
   "outputs": [
    {
     "name": "stdout",
     "output_type": "stream",
     "text": [
      "(31, 28, 31, 30, 31, 30, 31, 31, 30, 31, 30, 31)\n",
      "31\n",
      "30\n",
      "28\n"
     ]
    }
   ],
   "source": [
    "#Declaración de una tupla\n",
    "\n",
    "tupla_diasDelMes = (31,28,31,30,31,30,31,31,30,31,30,31)\n",
    "\n",
    "print(tupla_diasDelMes)         #Imprime la tupla completa\n",
    "print(tupla_diasDelMes[0])      #Imprime elemento 1\n",
    "print(tupla_diasDelMes[3])      #Imprime elemento 4\n",
    "print(tupla_diasDelMes[1])      #Imprime elemento 2"
   ]
  },
  {
   "cell_type": "code",
   "execution_count": 27,
   "metadata": {},
   "outputs": [
    {
     "name": "stdout",
     "output_type": "stream",
     "text": [
      "(('cero', 0), ('uno', 1, 'UNO'), ('dos', 2), ('tres', 3), ('cuatro', 4), ('X', 5))\n",
      "('cero', 0)\n",
      "('uno', 1, 'UNO')\n",
      "dos\n",
      "2\n",
      "uno\n",
      "1\n",
      "UNO\n"
     ]
    }
   ],
   "source": [
    "#Declaracion de tuplas anidadas\n",
    "\n",
    "tupla_numeros = (('cero', 0),('uno',1,'UNO'),('dos',2),('tres',3),('cuatro',4),('X',5))\n",
    "\n",
    "print(tupla_numeros)         #Imprime tupla completa\n",
    "\n",
    "print(tupla_numeros[0])      #Imprime el elemento 0 de la tupla\n",
    "print(tupla_numeros[1])      #Imprime el elemento 1 de la tupla\n",
    "\n",
    "print(tupla_numeros[2][0])   #Imprime el primer elemento de la tupla en la posición 2\n",
    "print(tupla_numeros[2][1])   #Imprime el segundo elemento de la tupla en la posición 2\n",
    "\n",
    "\n",
    "print(tupla_numeros[1][0])\n",
    "print(tupla_numeros[1][1])\n",
    "print(tupla_numeros[1][2])"
   ]
  },
  {
   "cell_type": "code",
   "execution_count": 28,
   "metadata": {},
   "outputs": [
    {
     "name": "stdout",
     "output_type": "stream",
     "text": [
      "valor actual 31\n",
      "valor cambiado 50\n"
     ]
    },
    {
     "ename": "TypeError",
     "evalue": "'tuple' object does not support item assignment",
     "output_type": "error",
     "traceback": [
      "\u001b[0;31m---------------------------------------------------------------------------\u001b[0m",
      "\u001b[0;31mTypeError\u001b[0m                                 Traceback (most recent call last)",
      "Cell \u001b[0;32mIn[28], line 7\u001b[0m\n\u001b[1;32m      4\u001b[0m lista_diasDelMes[\u001b[39m0\u001b[39m] \u001b[39m=\u001b[39m \u001b[39m50\u001b[39m\n\u001b[1;32m      6\u001b[0m \u001b[39mprint\u001b[39m(\u001b[39m\"\u001b[39m\u001b[39mvalor cambiado \u001b[39m\u001b[39m{}\u001b[39;00m\u001b[39m\"\u001b[39m\u001b[39m.\u001b[39mformat(lista_diasDelMes[\u001b[39m0\u001b[39m]))\n\u001b[0;32m----> 7\u001b[0m tupla_diasDelMes[\u001b[39m0\u001b[39;49m] \u001b[39m=\u001b[39m \u001b[39m50\u001b[39m    \u001b[39m#Esta asignacion manda un error, ya que no se pueden cambiar\u001b[39;00m\n\u001b[1;32m      8\u001b[0m                             \u001b[39m#valores de una tupla\u001b[39;00m\n",
      "\u001b[0;31mTypeError\u001b[0m: 'tuple' object does not support item assignment"
     ]
    }
   ],
   "source": [
    "#Probando la mutabilidad de las listas vs la no mutabilidad de las tuplas\n",
    "\n",
    "print(\"valor actual {}\".format(lista_diasDelMes[0]))\n",
    "lista_diasDelMes[0] = 50\n",
    "\n",
    "print(\"valor cambiado {}\".format(lista_diasDelMes[0]))\n",
    "tupla_diasDelMes[0] = 50    #Esta asignacion manda un error, ya que no se pueden cambiar\n",
    "                            #valores de una tupla"
   ]
  },
  {
   "attachments": {},
   "cell_type": "markdown",
   "metadata": {},
   "source": [
    "TUPLA CON NOMBRE"
   ]
  },
  {
   "attachments": {},
   "cell_type": "markdown",
   "metadata": {},
   "source": [
    "En comparacion con las tuplas anteriores, este tipo especial de tuplas permite especificar un nombre para describirla."
   ]
  },
  {
   "cell_type": "code",
   "execution_count": 31,
   "metadata": {},
   "outputs": [
    {
     "name": "stdout",
     "output_type": "stream",
     "text": [
      "planeta(nombre='Mercurio', numero=1)\n",
      "Mercurio 1\n",
      "Venus 2\n",
      "Campos de la tupla: ('nombre', 'numero')\n"
     ]
    }
   ],
   "source": [
    "#Se debe impotar la librería para hacer uso de namedtuple\n",
    "from collections import  namedtuple\n",
    "\n",
    "#Se crea la tupla con nombre\n",
    "#El primer argumento es el nombre de la tupla, mienttras que el segundo argumento son los campos\n",
    "#p es la referencia a la tupla\n",
    "planeta = namedtuple('planeta', ['nombre', 'numero'])\n",
    "\n",
    "#Se crea el planeta 1  y se agregan a la tupla los valores correspondientes a los campos\n",
    "planeta1 = planeta('Mercurio', 1)\n",
    "print(planeta1)\n",
    "\n",
    "#Se crea el planeta 2\n",
    "planeta2 = planeta('Venus', 2)\n",
    "\n",
    "#Se imprimen los valores de los campos\n",
    "#Usando la referencia se llama a cada uno de los campos\n",
    "print(planeta1.nombre, planeta1.numero)\n",
    "\n",
    "#Se obtienen los valores por el orden de los campos\n",
    "print(planeta2[0], planeta2[1])\n",
    "\n",
    "print('Campos de la tupla: {}'. format(planeta1._fields))"
   ]
  },
  {
   "attachments": {},
   "cell_type": "markdown",
   "metadata": {},
   "source": [
    "DICCIONARIOS"
   ]
  },
  {
   "attachments": {},
   "cell_type": "markdown",
   "metadata": {},
   "source": [
    "°Un diccionario se crea usando {} y consta de dos parte: llave y valor\n",
    "°Las llaves son inmutables, deben de tener un solo tipo de dato,una cadena o número. Una vez que es creado, no se puede cambiar su tipo.\n",
    "°Mientras que el valor puede ser de cualquier tipo y se puede cambiar con el tiempo.\n",
    "°Los elementos en un diccionario no están ordenados"
   ]
  },
  {
   "cell_type": "code",
   "execution_count": 33,
   "metadata": {},
   "outputs": [
    {
     "name": "stdout",
     "output_type": "stream",
     "text": [
      "{'hidrogeno': 1, 'helio': 2, 'Carbon': 6}\n",
      "1\n"
     ]
    }
   ],
   "source": [
    "#Creando un diccionario\n",
    "elementos = {'hidrogeno': 1,'helio': 2,'Carbon': 6}\n",
    "\n",
    "#El momento de la impresión, puede aparecer en diferente orden del introducido\n",
    "print(elementos)\n",
    "\n",
    "print(elementos['hidrogeno'])"
   ]
  },
  {
   "cell_type": "code",
   "execution_count": 34,
   "metadata": {},
   "outputs": [
    {
     "name": "stdout",
     "output_type": "stream",
     "text": [
      "{'hidrogeno': 1, 'helio': 2, 'Carbon': 6, 'litio': 3, 'nitrogeno': 8}\n"
     ]
    }
   ],
   "source": [
    "#Se pueden agregar elementos al diccionario\n",
    "elementos['litio'] = 3\n",
    "elementos['nitrogeno'] = 8\n",
    "\n",
    "print(elementos)    #Imprimiendo todos los elementos, nótese que los elementos no están ordenados"
   ]
  }
 ],
 "metadata": {
  "kernelspec": {
   "display_name": "Python 3",
   "language": "python",
   "name": "python3"
  },
  "language_info": {
   "codemirror_mode": {
    "name": "ipython",
    "version": 3
   },
   "file_extension": ".py",
   "mimetype": "text/x-python",
   "name": "python",
   "nbconvert_exporter": "python",
   "pygments_lexer": "ipython3",
   "version": "3.10.6"
  },
  "orig_nbformat": 4
 },
 "nbformat": 4,
 "nbformat_minor": 2
}
