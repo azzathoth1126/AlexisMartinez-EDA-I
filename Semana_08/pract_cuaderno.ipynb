{
 "cells": [
  {
   "attachments": {},
   "cell_type": "markdown",
   "metadata": {},
   "source": [
    "VARIABLES Y TIPOS"
   ]
  },
  {
   "attachments": {},
   "cell_type": "markdown",
   "metadata": {},
   "source": [
    "Nombres reservados en Python\n",
    "\n",
    "'''\n",
    "and, as, assert, break, class, continue, def, del, elif, else, except, exec, finally, for, from,\n",
    "global, if, import, in, is, lambda, not, or, pass, print, raise, return, try, while, with, yield.\n",
    "'''"
   ]
  },
  {
   "cell_type": "code",
   "execution_count": 29,
   "metadata": {},
   "outputs": [
    {
     "name": "stdout",
     "output_type": "stream",
     "text": [
      "10\n",
      "Hola mundo\n"
     ]
    }
   ],
   "source": [
    "#inicializando variables \n",
    "x = 10\n",
    "\n",
    "print (x)\n",
    "\n",
    "#Se puede utilizar comillas dobles o simples para crear una cadena\n",
    "cadena = \"Hola mundo\"\n",
    "\n",
    "print(cadena)"
   ]
  },
  {
   "cell_type": "code",
   "execution_count": 30,
   "metadata": {},
   "outputs": [
    {
     "name": "stdout",
     "output_type": "stream",
     "text": [
      "10 10 10\n"
     ]
    }
   ],
   "source": [
    "#Asigna un mismo valor a tres variables\n",
    "\n",
    "x = y = z = 10\n",
    "\n",
    "print(x, y, z)"
   ]
  },
  {
   "cell_type": "code",
   "execution_count": 31,
   "metadata": {},
   "outputs": [
    {
     "data": {
      "text/plain": [
       "int"
      ]
     },
     "execution_count": 31,
     "metadata": {},
     "output_type": "execute_result"
    }
   ],
   "source": [
    "#La funcion type () permite conocer el tipo de una variable\n",
    "type(x)"
   ]
  },
  {
   "cell_type": "code",
   "execution_count": 32,
   "metadata": {},
   "outputs": [
    {
     "data": {
      "text/plain": [
       "str"
      ]
     },
     "execution_count": 32,
     "metadata": {},
     "output_type": "execute_result"
    }
   ],
   "source": [
    "type(cadena)"
   ]
  },
  {
   "cell_type": "code",
   "execution_count": 33,
   "metadata": {},
   "outputs": [],
   "source": [
    "#Se puede cambiar los valores de las varables y el tipo se cambia automaticamente\n",
    "\n",
    "x = \"Hola mundo\"\n",
    "cadena = 10"
   ]
  },
  {
   "cell_type": "code",
   "execution_count": 34,
   "metadata": {},
   "outputs": [
    {
     "data": {
      "text/plain": [
       "str"
      ]
     },
     "execution_count": 34,
     "metadata": {},
     "output_type": "execute_result"
    }
   ],
   "source": [
    "type(x)"
   ]
  },
  {
   "cell_type": "code",
   "execution_count": 35,
   "metadata": {},
   "outputs": [
    {
     "data": {
      "text/plain": [
       "int"
      ]
     },
     "execution_count": 35,
     "metadata": {},
     "output_type": "execute_result"
    }
   ],
   "source": [
    "type(cadena)"
   ]
  },
  {
   "cell_type": "code",
   "execution_count": 36,
   "metadata": {},
   "outputs": [],
   "source": [
    "#Cuando una variable tiene un valor constante, por conveción, el nombre se escribe \n",
    "#en mayusculas\n",
    "\n",
    "SEGUNDOS_POR_DIA = 60 * 60 * 60\n",
    "PI = 3.14"
   ]
  },
  {
   "attachments": {},
   "cell_type": "markdown",
   "metadata": {},
   "source": [
    "."
   ]
  },
  {
   "attachments": {},
   "cell_type": "markdown",
   "metadata": {},
   "source": [
    "CADENAS"
   ]
  },
  {
   "attachments": {},
   "cell_type": "markdown",
   "metadata": {},
   "source": [
    "Las cadenas pueden ser definidas usando comilla simple ( '' ) o comillas doble ( \"\" ). Una característica de las cadenas es que son inmutables, esto quiere decir que no se pueden cambiar los caracteres que contiene. El caracter \\ sirve para escapar caracteres como \\n o \\t."
   ]
  },
  {
   "cell_type": "code",
   "execution_count": 37,
   "metadata": {},
   "outputs": [
    {
     "name": "stdout",
     "output_type": "stream",
     "text": [
      "Hola \n",
      "mundo\n",
      "Hola mundo\n"
     ]
    }
   ],
   "source": [
    "#Inicializando cadenas\n",
    "\n",
    "cadena1 =\"Hola \"\n",
    "cadena2 = \"mundo\"\n",
    "\n",
    "print(cadena1)\n",
    "print(cadena2)\n",
    "\n",
    "concat_cadenas = cadena1 + cadena2  #Concatenación de cadenas\n",
    "\n",
    "print(concat_cadenas)"
   ]
  },
  {
   "cell_type": "code",
   "execution_count": 38,
   "metadata": {},
   "outputs": [
    {
     "name": "stdout",
     "output_type": "stream",
     "text": [
      "Hola mundo 3\n"
     ]
    }
   ],
   "source": [
    "#Para concatenar un número y una cadena se debe usar la función str()\n",
    "num_cadena = concat_cadenas + ' ' + str(3) \n",
    "\n",
    "#se agrega una cadena vacia para agregar un espacio\n",
    "print(num_cadena)"
   ]
  },
  {
   "attachments": {},
   "cell_type": "markdown",
   "metadata": {},
   "source": [
    "Para concatenar codenas se recomienda el uso de la función format(), en lugar del viejo estilo del operador '+'."
   ]
  },
  {
   "cell_type": "code",
   "execution_count": 39,
   "metadata": {},
   "outputs": [
    {
     "name": "stdout",
     "output_type": "stream",
     "text": [
      "Hola  mundo 3\n"
     ]
    }
   ],
   "source": [
    "#El valor de la variable se va a imprimir en el lugar donde se encuetra {} en la cadena\n",
    "\n",
    "num_cadena = \"{} {} {}\". format(cadena1, cadena2, 3)\n",
    "\n",
    "print(num_cadena)"
   ]
  },
  {
   "attachments": {},
   "cell_type": "markdown",
   "metadata": {},
   "source": [
    "Por medio de la función format(), se puede cambiar el orden en que se imprimen las varables:"
   ]
  },
  {
   "cell_type": "code",
   "execution_count": 40,
   "metadata": {},
   "outputs": [
    {
     "name": "stdout",
     "output_type": "stream",
     "text": [
      "Cambia el orden: mundo 3 Hola \n"
     ]
    }
   ],
   "source": [
    "#Cuando se agrega un número dentrode (#), el valor la variable que \n",
    "#se encuentra es esa posición dentro de la función format(), sera impreso.\n",
    "\n",
    "num_cadena = \"Cambia el orden: {1} {2} {0}\". format(cadena1, cadena2, 3)\n",
    "\n",
    "print(num_cadena)"
   ]
  },
  {
   "cell_type": "markdown",
   "metadata": {},
   "source": [
    "."
   ]
  },
  {
   "attachments": {},
   "cell_type": "markdown",
   "metadata": {},
   "source": [
    "OPERADORES"
   ]
  },
  {
   "attachments": {},
   "cell_type": "markdown",
   "metadata": {},
   "source": [
    "Aritmeticos: +, -, *,  /"
   ]
  },
  {
   "cell_type": "code",
   "execution_count": 41,
   "metadata": {},
   "outputs": [
    {
     "name": "stdout",
     "output_type": "stream",
     "text": [
      "6\n",
      "18\n",
      "6\n",
      "2.0\n",
      "0\n",
      "20.4\n",
      "4\n"
     ]
    }
   ],
   "source": [
    "#Para el exponente se puede usar el asterisco\n",
    "\n",
    "print(1 + 5)\n",
    "print(6 * 3)\n",
    "print(10 -4)\n",
    "print(100 / 50)\n",
    "print(10 % 2)\n",
    "print((20 - 3) * (10 + 2) / 10)\n",
    "print(2**2)"
   ]
  },
  {
   "attachments": {},
   "cell_type": "markdown",
   "metadata": {},
   "source": [
    "Booleanos: and, not, or"
   ]
  },
  {
   "cell_type": "code",
   "execution_count": 42,
   "metadata": {},
   "outputs": [
    {
     "data": {
      "text/plain": [
       "False"
      ]
     },
     "execution_count": 42,
     "metadata": {},
     "output_type": "execute_result"
    }
   ],
   "source": [
    "False and True"
   ]
  },
  {
   "attachments": {},
   "cell_type": "markdown",
   "metadata": {},
   "source": [
    "Comparación: >, <, =>, <=, =="
   ]
  },
  {
   "cell_type": "code",
   "execution_count": 43,
   "metadata": {},
   "outputs": [
    {
     "name": "stdout",
     "output_type": "stream",
     "text": [
      "False\n",
      "True\n",
      "True\n",
      "False\n",
      "True\n"
     ]
    }
   ],
   "source": [
    "print(7 < 5) #False\n",
    "\n",
    "print(7 > 5) #Verdadero\n",
    "\n",
    "print((11 * 3)+2 == 36 - 1) #Verdadero\n",
    "\n",
    "print((11 * 3)+2 >= 36) #False\n",
    "\n",
    "print(\"curso\" != \"CuRsO\") #Verdadero"
   ]
  },
  {
   "cell_type": "markdown",
   "metadata": {},
   "source": [
    "."
   ]
  },
  {
   "attachments": {},
   "cell_type": "markdown",
   "metadata": {},
   "source": [
    "LISTAS"
   ]
  },
  {
   "attachments": {},
   "cell_type": "markdown",
   "metadata": {},
   "source": [
    "ºBasicamente son valores que están separados por comas dentro de paréntesis cuadrados.\n",
    "ºEstá compuesta por cualquier cantidad y/o tipo de datos, ya sean cadenas, caracteres, números e inclusive otras listas.\n",
    "ºSe puede acceder a las listas por medio de índices, estos índices comienzan desde 0 hasta el número de elementos menos 1.\n",
    "ºLas listas son mutables."
   ]
  },
  {
   "cell_type": "code",
   "execution_count": 44,
   "metadata": {},
   "outputs": [
    {
     "name": "stdout",
     "output_type": "stream",
     "text": [
      "[31, 28, 31, 30, 31, 30, 31, 31, 30, 31, 30, 31]\n",
      "31\n",
      "31\n",
      "31\n"
     ]
    }
   ],
   "source": [
    "#Declaración de una lista simple\n",
    "\n",
    "lista_diasDelMes = [31,28,31,30,31,30,31,31,30,31,30,31]\n",
    "\n",
    "print(lista_diasDelMes)             #Imprimir la lista completa\n",
    "print(lista_diasDelMes[0])          #Imprimir elemento 1\n",
    "print(lista_diasDelMes[6])          #Imprimir elemento 7\n",
    "print(lista_diasDelMes[11])         #Impriimir elemento 12"
   ]
  },
  {
   "cell_type": "code",
   "execution_count": 45,
   "metadata": {},
   "outputs": [
    {
     "name": "stdout",
     "output_type": "stream",
     "text": [
      "[['cero', 0], ['uno', 1, 'UNO'], ['dos', 2], ['tres', 3], ['cautro', 4], ['X', 5]]\n",
      "['cero', 0]\n",
      "['uno', 1, 'UNO']\n",
      "dos\n",
      "2\n",
      "uno\n",
      "1\n",
      "UNO\n"
     ]
    }
   ],
   "source": [
    "#Declaracion de lista anidadas\n",
    "\n",
    "lista_numeros = [['cero', 0],['uno',1,'UNO'],['dos', 2],['tres', 3],['cautro', 4],['X', 5]]\n",
    "\n",
    "print(lista_numeros)            #imprime lista completa\n",
    "\n",
    "print(lista_numeros[0])         #imprime el elemento 0 de la lista\n",
    "print(lista_numeros[1])         #imprime el elemento 1 de la lista\n",
    "\n",
    "print(lista_numeros[2][0])      #Imprime el primer elemento de la lista en la posición 2\n",
    "print(lista_numeros[2][1])      #Imprime el segundo elemento de la lista en la posición 2\n",
    "\n",
    "print(lista_numeros[1][0])\n",
    "print(lista_numeros[1][1])\n",
    "print(lista_numeros[1][2])"
   ]
  },
  {
   "cell_type": "code",
   "execution_count": 46,
   "metadata": {},
   "outputs": [
    {
     "name": "stdout",
     "output_type": "stream",
     "text": [
      "['cinco', 5]\n"
     ]
    }
   ],
   "source": [
    "#Se cambia el valor de uno de los elementos de la lista\n",
    "\n",
    "lista_numeros[5][0] = \"cinco\"\n",
    "print(lista_numeros[5])"
   ]
  },
  {
   "attachments": {},
   "cell_type": "markdown",
   "metadata": {},
   "source": [
    "."
   ]
  },
  {
   "attachments": {},
   "cell_type": "markdown",
   "metadata": {},
   "source": [
    "TUPLAS"
   ]
  },
  {
   "attachments": {},
   "cell_type": "markdown",
   "metadata": {},
   "source": [
    "°Son parecida a las listas, valores separados por una coma.\n",
    "°Comparadas con las listas, las tuplas no son mutables.\n",
    "°Se pueden aplicar las mismas operaciones que en las listas y su ventaja es que consumen menos memoria para almacenarse.\n",
    "°Se crean, ya sea utilizando paréntesis o simplemente separando los valores por comas."
   ]
  },
  {
   "cell_type": "code",
   "execution_count": 47,
   "metadata": {},
   "outputs": [
    {
     "name": "stdout",
     "output_type": "stream",
     "text": [
      "(31, 28, 31, 30, 31, 30, 31, 31, 30, 31, 30, 31)\n",
      "31\n",
      "30\n",
      "28\n"
     ]
    }
   ],
   "source": [
    "#Declaración de una tupla\n",
    "\n",
    "tupla_diasDelMes = (31,28,31,30,31,30,31,31,30,31,30,31)\n",
    "\n",
    "print(tupla_diasDelMes)         #Imprime la tupla completa\n",
    "print(tupla_diasDelMes[0])      #Imprime elemento 1\n",
    "print(tupla_diasDelMes[3])      #Imprime elemento 4\n",
    "print(tupla_diasDelMes[1])      #Imprime elemento 2"
   ]
  },
  {
   "cell_type": "code",
   "execution_count": 48,
   "metadata": {},
   "outputs": [
    {
     "name": "stdout",
     "output_type": "stream",
     "text": [
      "(('cero', 0), ('uno', 1, 'UNO'), ('dos', 2), ('tres', 3), ('cuatro', 4), ('X', 5))\n",
      "('cero', 0)\n",
      "('uno', 1, 'UNO')\n",
      "dos\n",
      "2\n",
      "uno\n",
      "1\n",
      "UNO\n"
     ]
    }
   ],
   "source": [
    "#Declaracion de tuplas anidadas\n",
    "\n",
    "tupla_numeros = (('cero', 0),('uno',1,'UNO'),('dos',2),('tres',3),('cuatro',4),('X',5))\n",
    "\n",
    "print(tupla_numeros)         #Imprime tupla completa\n",
    "\n",
    "print(tupla_numeros[0])      #Imprime el elemento 0 de la tupla\n",
    "print(tupla_numeros[1])      #Imprime el elemento 1 de la tupla\n",
    "\n",
    "print(tupla_numeros[2][0])   #Imprime el primer elemento de la tupla en la posición 2\n",
    "print(tupla_numeros[2][1])   #Imprime el segundo elemento de la tupla en la posición 2\n",
    "\n",
    "\n",
    "print(tupla_numeros[1][0])\n",
    "print(tupla_numeros[1][1])\n",
    "print(tupla_numeros[1][2])"
   ]
  },
  {
   "cell_type": "code",
   "execution_count": 49,
   "metadata": {},
   "outputs": [
    {
     "name": "stdout",
     "output_type": "stream",
     "text": [
      "valor actual 31\n",
      "valor cambiado 50\n"
     ]
    },
    {
     "ename": "TypeError",
     "evalue": "'tuple' object does not support item assignment",
     "output_type": "error",
     "traceback": [
      "\u001b[0;31m---------------------------------------------------------------------------\u001b[0m",
      "\u001b[0;31mTypeError\u001b[0m                                 Traceback (most recent call last)",
      "Cell \u001b[0;32mIn[49], line 7\u001b[0m\n\u001b[1;32m      4\u001b[0m lista_diasDelMes[\u001b[39m0\u001b[39m] \u001b[39m=\u001b[39m \u001b[39m50\u001b[39m\n\u001b[1;32m      6\u001b[0m \u001b[39mprint\u001b[39m(\u001b[39m\"\u001b[39m\u001b[39mvalor cambiado \u001b[39m\u001b[39m{}\u001b[39;00m\u001b[39m\"\u001b[39m\u001b[39m.\u001b[39mformat(lista_diasDelMes[\u001b[39m0\u001b[39m]))\n\u001b[0;32m----> 7\u001b[0m tupla_diasDelMes[\u001b[39m0\u001b[39;49m] \u001b[39m=\u001b[39m \u001b[39m50\u001b[39m    \u001b[39m#Esta asignacion manda un error, ya que no se pueden cambiar\u001b[39;00m\n\u001b[1;32m      8\u001b[0m                             \u001b[39m#valores de una tupla\u001b[39;00m\n",
      "\u001b[0;31mTypeError\u001b[0m: 'tuple' object does not support item assignment"
     ]
    }
   ],
   "source": [
    "#Probando la mutabilidad de las listas vs la no mutabilidad de las tuplas\n",
    "\n",
    "print(\"valor actual {}\".format(lista_diasDelMes[0]))\n",
    "lista_diasDelMes[0] = 50\n",
    "\n",
    "print(\"valor cambiado {}\".format(lista_diasDelMes[0]))\n",
    "tupla_diasDelMes[0] = 50    #Esta asignacion manda un error, ya que no se pueden cambiar\n",
    "                            #valores de una tupla"
   ]
  },
  {
   "attachments": {},
   "cell_type": "markdown",
   "metadata": {},
   "source": [
    "TUPLA CON NOMBRE"
   ]
  },
  {
   "attachments": {},
   "cell_type": "markdown",
   "metadata": {},
   "source": [
    "En comparacion con las tuplas anteriores, este tipo especial de tuplas permite especificar un nombre para describirla."
   ]
  },
  {
   "cell_type": "code",
   "execution_count": null,
   "metadata": {},
   "outputs": [
    {
     "name": "stdout",
     "output_type": "stream",
     "text": [
      "planeta(nombre='Mercurio', numero=1)\n",
      "Mercurio 1\n",
      "Venus 2\n",
      "Campos de la tupla: ('nombre', 'numero')\n"
     ]
    }
   ],
   "source": [
    "#Se debe impotar la librería para hacer uso de namedtuple\n",
    "from collections import  namedtuple\n",
    "\n",
    "#Se crea la tupla con nombre\n",
    "#El primer argumento es el nombre de la tupla, mienttras que el segundo argumento son los campos\n",
    "#p es la referencia a la tupla\n",
    "planeta = namedtuple('planeta', ['nombre', 'numero'])\n",
    "\n",
    "#Se crea el planeta 1  y se agregan a la tupla los valores correspondientes a los campos\n",
    "planeta1 = planeta('Mercurio', 1)\n",
    "print(planeta1)\n",
    "\n",
    "#Se crea el planeta 2\n",
    "planeta2 = planeta('Venus', 2)\n",
    "\n",
    "#Se imprimen los valores de los campos\n",
    "#Usando la referencia se llama a cada uno de los campos\n",
    "print(planeta1.nombre, planeta1.numero)\n",
    "\n",
    "#Se obtienen los valores por el orden de los campos\n",
    "print(planeta2[0], planeta2[1])\n",
    "\n",
    "print('Campos de la tupla: {}'. format(planeta1._fields))"
   ]
  },
  {
   "attachments": {},
   "cell_type": "markdown",
   "metadata": {},
   "source": [
    "."
   ]
  },
  {
   "attachments": {},
   "cell_type": "markdown",
   "metadata": {},
   "source": [
    "DICCIONARIOS"
   ]
  },
  {
   "attachments": {},
   "cell_type": "markdown",
   "metadata": {},
   "source": [
    "°Un diccionario se crea usando {} y consta de dos parte: llave y valor\n",
    "°Las llaves son inmutables, deben de tener un solo tipo de dato,una cadena o número. Una vez que es creado, no se puede cambiar su tipo.\n",
    "°Mientras que el valor puede ser de cualquier tipo y se puede cambiar con el tiempo.\n",
    "°Los elementos en un diccionario no están ordenados"
   ]
  },
  {
   "cell_type": "code",
   "execution_count": null,
   "metadata": {},
   "outputs": [
    {
     "name": "stdout",
     "output_type": "stream",
     "text": [
      "{'hidrogeno': 1, 'helio': 2, 'Carbon': 6}\n",
      "1\n"
     ]
    }
   ],
   "source": [
    "#Creando un diccionario\n",
    "elementos = {'hidrogeno': 1,'helio': 2,'Carbon': 6}\n",
    "\n",
    "#El momento de la impresión, puede aparecer en diferente orden del introducido\n",
    "print(elementos)\n",
    "\n",
    "print(elementos['hidrogeno'])"
   ]
  },
  {
   "cell_type": "code",
   "execution_count": null,
   "metadata": {},
   "outputs": [
    {
     "name": "stdout",
     "output_type": "stream",
     "text": [
      "{'hidrogeno': 1, 'helio': 2, 'Carbon': 6, 'litio': 3, 'nitrogeno': 8}\n"
     ]
    }
   ],
   "source": [
    "#Se pueden agregar elementos al diccionario\n",
    "\n",
    "elementos['litio'] = 3\n",
    "elementos['nitrogeno'] = 8\n",
    "\n",
    "print(elementos)    #Imprimiendo todos los elementos, nótese que los elementos no están ordenados"
   ]
  },
  {
   "cell_type": "code",
   "execution_count": null,
   "metadata": {},
   "outputs": [
    {
     "name": "stdout",
     "output_type": "stream",
     "text": [
      "{'H': {'name': 'Hydrogen', 'number': 1, 'weight': 1.00794}, 'He': {'name': 'Heliom', 'number': 2, 'weight': 4.002602}}\n"
     ]
    }
   ],
   "source": [
    "#Creando un nuevo diccionario\n",
    "\n",
    "elementos2 = {}\n",
    "elementos2['H'] = {'name': 'Hydrogen', 'number': 1, 'weight': 1.00794}\n",
    "elementos2['He'] = {'name': 'Heliom', 'number': 2, 'weight': 4.002602}\n",
    "\n",
    "print(elementos2)"
   ]
  },
  {
   "cell_type": "code",
   "execution_count": null,
   "metadata": {},
   "outputs": [
    {
     "name": "stdout",
     "output_type": "stream",
     "text": [
      "{'name': 'Hydrogen', 'number': 1, 'weight': 1.00794}\n",
      "Hydrogen\n",
      "1\n",
      "4.3\n"
     ]
    }
   ],
   "source": [
    "#Imprimiendo los datos de un elemento del diccionario\n",
    "\n",
    "print(elementos2['H'])\n",
    "print(elementos2['H']['name'])\n",
    "print(elementos2['H']['number'])\n",
    "\n",
    "elementos2['H']['weight'] = 4.30    #Cambia el valor del elemento\n",
    "\n",
    "print(elementos2['H']['weight'])"
   ]
  },
  {
   "cell_type": "code",
   "execution_count": null,
   "metadata": {},
   "outputs": [
    {
     "name": "stdout",
     "output_type": "stream",
     "text": [
      "{'name': 'Hydrogen', 'number': 1, 'weight': 4.3, 'gas noble': True}\n"
     ]
    }
   ],
   "source": [
    "#Agregando elementos a una llave\n",
    "elementos2['H'].update({'gas noble':True})\n",
    "print(elementos2['H'])"
   ]
  },
  {
   "cell_type": "code",
   "execution_count": null,
   "metadata": {},
   "outputs": [
    {
     "name": "stdout",
     "output_type": "stream",
     "text": [
      "dict_items([('H', {'name': 'Hydrogen', 'number': 1, 'weight': 4.3, 'gas noble': True}), ('He', {'name': 'Heliom', 'number': 2, 'weight': 4.002602})])\n",
      "dict_keys(['H', 'He'])\n"
     ]
    }
   ],
   "source": [
    "#Muestra todos los elementos del diccionario\n",
    "print(elementos2.items())\n",
    "\n",
    "#Muestra todas las llaves del diccionario\n",
    "print(elementos2.keys())"
   ]
  },
  {
   "attachments": {},
   "cell_type": "markdown",
   "metadata": {},
   "source": [
    "."
   ]
  },
  {
   "attachments": {},
   "cell_type": "markdown",
   "metadata": {},
   "source": [
    "FUNCIONES"
   ]
  },
  {
   "attachments": {},
   "cell_type": "markdown",
   "metadata": {},
   "source": [
    "°Una función o procedimiento sirve para empaquetar código que sirve para ser reutilizado.\n",
    "°Se puede usar ese mismo código con diferentes entradas y obtener resultados o comportamientos de acuerdo con esos datos."
   ]
  },
  {
   "cell_type": "code",
   "execution_count": null,
   "metadata": {},
   "outputs": [],
   "source": [
    "#Las funciones pueden recibir n número de parámetros, no se necesita indicar el tipo\n",
    "def imprime_nombre(nombre):\n",
    "    print(\"hola \"+nombre) #Las cadenas se puede concatenar con el +"
   ]
  },
  {
   "cell_type": "code",
   "execution_count": null,
   "metadata": {},
   "outputs": [
    {
     "name": "stdout",
     "output_type": "stream",
     "text": [
      "hola JJ\n"
     ]
    }
   ],
   "source": [
    "#Llamada a la funcion\n",
    "imprime_nombre(\"JJ\")"
   ]
  },
  {
   "cell_type": "code",
   "execution_count": null,
   "metadata": {},
   "outputs": [],
   "source": [
    "#Definiendo una función que regresa el cuadrado de un número\n",
    "def cuadrado(x):\n",
    "    return x**2"
   ]
  },
  {
   "cell_type": "code",
   "execution_count": null,
   "metadata": {},
   "outputs": [
    {
     "name": "stdout",
     "output_type": "stream",
     "text": [
      "El cuadrado de 5 es 25\n"
     ]
    }
   ],
   "source": [
    "x = 5\n",
    "\n",
    "#La función format() sirve para convertir los parámetros que recibe, en cadenas\n",
    "\n",
    "print(\"El cuadrado de {} es {}\". format(x, cuadrado(x)))"
   ]
  },
  {
   "cell_type": "code",
   "execution_count": null,
   "metadata": {},
   "outputs": [],
   "source": [
    "#Definiendo una función que regrese más de un valor\n",
    "def varios(x):\n",
    "    return x**2, x**3, x**4"
   ]
  },
  {
   "cell_type": "code",
   "execution_count": null,
   "metadata": {},
   "outputs": [
    {
     "name": "stdout",
     "output_type": "stream",
     "text": [
      "4 8 16\n"
     ]
    }
   ],
   "source": [
    "#Los valores que regresa la función pueden ser guardado en variables separadas por ,\n",
    "val1, val2, val3 = varios(2)\n",
    "print(\"{} {} {}\". format(val1, val2, val3))"
   ]
  },
  {
   "cell_type": "code",
   "execution_count": null,
   "metadata": {},
   "outputs": [],
   "source": [
    "#Función con un párametro con un valor por defecto\n",
    "def cuadrado_default(x=3):\n",
    "    return x**2"
   ]
  },
  {
   "cell_type": "code",
   "execution_count": null,
   "metadata": {},
   "outputs": [
    {
     "data": {
      "text/plain": [
       "9"
      ]
     },
     "execution_count": 38,
     "metadata": {},
     "output_type": "execute_result"
    }
   ],
   "source": [
    "#Como la función tien un valor por default, si se manda llamar la función sin especificar el\n",
    "#parametro, ya tiene por defecto\n",
    "cuadrado_default()"
   ]
  },
  {
   "attachments": {},
   "cell_type": "markdown",
   "metadata": {},
   "source": [
    "Idiom: Cuando una función regresa más de un valor, se puede usar el operando '_', para no guardar un valor no deseado"
   ]
  },
  {
   "cell_type": "code",
   "execution_count": null,
   "metadata": {},
   "outputs": [
    {
     "name": "stdout",
     "output_type": "stream",
     "text": [
      "4 16\n"
     ]
    }
   ],
   "source": [
    "#La función regresa tre, valores, pero sólo nos interesa el primero y el tercero\n",
    "val4, _, val5 = varios(2)\n",
    "print(\"{} {}\". format(val4, val5))"
   ]
  },
  {
   "attachments": {},
   "cell_type": "markdown",
   "metadata": {},
   "source": [
    "."
   ]
  },
  {
   "attachments": {},
   "cell_type": "markdown",
   "metadata": {},
   "source": [
    "VARIABLES GLOBALES"
   ]
  },
  {
   "attachments": {},
   "cell_type": "markdown",
   "metadata": {},
   "source": [
    "Se puede decir que el ambiente de ejecución es donde se efectúan las operaciones que componen un programa. Al momento de ejecutar un programa se crea un espacio de nombres para las variables. Hay dos tipos de espacio de nombres, el primero es el espacio global y el segundo el espacio local. Las varialbles que se declaren afuera de las funciones pertenecen al espacio global y no se necesita añadir un modificador para declararlas de esta manera. Por otro lado, todas las variables que se definen dentro de una función pertenecen al espacio local, estas variables sólo pueden ser reconocidas y usadas dentro de la propia función."
   ]
  },
  {
   "cell_type": "code",
   "execution_count": null,
   "metadata": {},
   "outputs": [],
   "source": [
    "#Se crea una variable en el espacio global de nombre\n",
    "vg = 'Global'"
   ]
  },
  {
   "cell_type": "code",
   "execution_count": null,
   "metadata": {},
   "outputs": [],
   "source": [
    "#Se crea una fución que imprime la variable global\n",
    "def funcion_v1():\n",
    "    print(vg)"
   ]
  },
  {
   "cell_type": "code",
   "execution_count": null,
   "metadata": {},
   "outputs": [
    {
     "name": "stdout",
     "output_type": "stream",
     "text": [
      "Global\n",
      "Global\n"
     ]
    }
   ],
   "source": [
    "#Llamada a la función que imprime la variable global\n",
    "funcion_v1()\n",
    "\n",
    "#Imprime la variable global\n",
    "print(vg)"
   ]
  },
  {
   "cell_type": "code",
   "execution_count": null,
   "metadata": {},
   "outputs": [],
   "source": [
    "#Se crea una variable local que tiene el mismo nombre que la variable global\n",
    "def funcion_v2():\n",
    "    vg = \"Local\"\n",
    "    print(vg)"
   ]
  },
  {
   "cell_type": "code",
   "execution_count": null,
   "metadata": {},
   "outputs": [
    {
     "name": "stdout",
     "output_type": "stream",
     "text": [
      "Local\n",
      "Global\n"
     ]
    }
   ],
   "source": [
    "#Llamada a la funcion\n",
    "funcion_v2()    #Imprime valor local\n",
    "\n",
    "#Imprime la variable global\n",
    "print(vg)"
   ]
  },
  {
   "cell_type": "code",
   "execution_count": null,
   "metadata": {},
   "outputs": [],
   "source": [
    "#Se trata de imprimir el valor de la variable global, a diferencia de la funcion_v1(),\n",
    "#se creó en el espacio local de la funcion_v3() una variable con el mismo nombre,\n",
    "#por lo que se reemplaza la variable global()\n",
    "\n",
    "def funcion_v3():\n",
    "    print(vg)\n",
    "    vg = \"Local\"\n",
    "    print(vg)"
   ]
  },
  {
   "cell_type": "code",
   "execution_count": null,
   "metadata": {},
   "outputs": [
    {
     "ename": "UnboundLocalError",
     "evalue": "local variable 'vg' referenced before assignment",
     "output_type": "error",
     "traceback": [
      "\u001b[0;31m---------------------------------------------------------------------------\u001b[0m",
      "\u001b[0;31mUnboundLocalError\u001b[0m                         Traceback (most recent call last)",
      "Cell \u001b[0;32mIn[30], line 2\u001b[0m\n\u001b[1;32m      1\u001b[0m \u001b[39m#Como se tiene una variable local y no se le ha asignado un valor, se genera un error\u001b[39;00m\n\u001b[0;32m----> 2\u001b[0m funcion_v3()\n",
      "Cell \u001b[0;32mIn[29], line 6\u001b[0m, in \u001b[0;36mfuncion_v3\u001b[0;34m()\u001b[0m\n\u001b[1;32m      5\u001b[0m \u001b[39mdef\u001b[39;00m \u001b[39mfuncion_v3\u001b[39m():\n\u001b[0;32m----> 6\u001b[0m     \u001b[39mprint\u001b[39m(vg)\n\u001b[1;32m      7\u001b[0m     vg \u001b[39m=\u001b[39m \u001b[39m\"\u001b[39m\u001b[39mLocal\u001b[39m\u001b[39m\"\u001b[39m\n\u001b[1;32m      8\u001b[0m     \u001b[39mprint\u001b[39m(vg)\n",
      "\u001b[0;31mUnboundLocalError\u001b[0m: local variable 'vg' referenced before assignment"
     ]
    }
   ],
   "source": [
    "#Como se tiene una variable local y no se le ha asignado un valor, se genera un error\n",
    "funcion_v3()"
   ]
  },
  {
   "cell_type": "code",
   "execution_count": null,
   "metadata": {},
   "outputs": [],
   "source": [
    "#Para resolver el problema anterior y especificar que se requiere hacer uso de la\n",
    "#variable global dentro de la función funcion_v4(), se tiene que agregar la\n",
    "#palabra reservada global\n",
    "\n",
    "def funcion_v4():\n",
    "    global vg\n",
    "    print(vg)\n",
    "    vg = \"Local\"\n",
    "    print(vg)"
   ]
  },
  {
   "cell_type": "code",
   "execution_count": null,
   "metadata": {},
   "outputs": [
    {
     "name": "stdout",
     "output_type": "stream",
     "text": [
      "Global\n",
      "Local\n",
      "Local\n"
     ]
    }
   ],
   "source": [
    "#Al momento de ejecutar la función se imprime el valor que tenía asignado vg antes\n",
    "#de ser modificado por la funcion. Después de asignar el valor, éste es impreso\n",
    "funcion_v4()\n",
    "\n",
    "#Se imprime la variable global con su valor modificado\n",
    "print(vg)"
   ]
  },
  {
   "attachments": {},
   "cell_type": "markdown",
   "metadata": {},
   "source": [
    "NOTAS: El manejo de variables globales dentro de una función en el lenguaje Python se considera como una mala practica, se recomiendo que se pasde como parámetro a la función y que se regrese un valor."
   ]
  },
  {
   "attachments": {},
   "cell_type": "markdown",
   "metadata": {},
   "source": [
    "."
   ]
  },
  {
   "attachments": {},
   "cell_type": "markdown",
   "metadata": {},
   "source": [
    "ESTRUCTURAS DE CONTROL SELECTIVAS"
   ]
  },
  {
   "attachments": {},
   "cell_type": "markdown",
   "metadata": {},
   "source": [
    "if\n",
    "\n",
    "La declaración IF sirve para ejecutar código dependiendo del resultado de una condición"
   ]
  },
  {
   "cell_type": "code",
   "execution_count": null,
   "metadata": {},
   "outputs": [],
   "source": [
    "def obtenerMayor(param1, param2):\n",
    "    if param1 < param2:\n",
    "        print(\"{} es mayor que {}\". format(param2, param1))"
   ]
  },
  {
   "cell_type": "code",
   "execution_count": null,
   "metadata": {},
   "outputs": [
    {
     "name": "stdout",
     "output_type": "stream",
     "text": [
      "7 es mayor que 5\n"
     ]
    }
   ],
   "source": [
    "obtenerMayor(5, 7)"
   ]
  },
  {
   "cell_type": "code",
   "execution_count": null,
   "metadata": {},
   "outputs": [],
   "source": [
    "obtenerMayor(7, 5)  #No imprime nad"
   ]
  },
  {
   "attachments": {},
   "cell_type": "markdown",
   "metadata": {},
   "source": [
    "Se puede encadenar más de una condición sin tener que agregar un operador booleano."
   ]
  },
  {
   "cell_type": "code",
   "execution_count": null,
   "metadata": {},
   "outputs": [
    {
     "name": "stdout",
     "output_type": "stream",
     "text": [
      "True\n"
     ]
    }
   ],
   "source": [
    "x = y = z = 0\n",
    "if x == y == z:\n",
    "    print(True)"
   ]
  },
  {
   "attachments": {},
   "cell_type": "markdown",
   "metadata": {},
   "source": [
    "if-else\n",
    "\n",
    "Este tipo de declaraciones se usan para dar una opción en el caso de que la condición no se cumpla."
   ]
  },
  {
   "cell_type": "code",
   "execution_count": null,
   "metadata": {},
   "outputs": [],
   "source": [
    "def obtenerMayor2(param1, param2):\n",
    "    if param1 < param2:\n",
    "        return param2\n",
    "    else:\n",
    "        return param1"
   ]
  },
  {
   "cell_type": "code",
   "execution_count": null,
   "metadata": {},
   "outputs": [
    {
     "name": "stdout",
     "output_type": "stream",
     "text": [
      "EL mayor es 20\n"
     ]
    }
   ],
   "source": [
    "print(\"EL mayor es {}\".format(obtenerMayor2(4, 20)))"
   ]
  },
  {
   "cell_type": "code",
   "execution_count": null,
   "metadata": {},
   "outputs": [
    {
     "name": "stdout",
     "output_type": "stream",
     "text": [
      "El mayor es 11\n"
     ]
    }
   ],
   "source": [
    "print(\"El mayor es {}\".format(obtenerMayor2(11, 6)))"
   ]
  },
  {
   "attachments": {},
   "cell_type": "markdown",
   "metadata": {},
   "source": [
    "Para operaciones simples, Python no tiene un operador binario(x7 True:False), pero se puede emunar con if-else"
   ]
  },
  {
   "cell_type": "code",
   "execution_count": null,
   "metadata": {},
   "outputs": [],
   "source": [
    "def obtenerMayor_idim(param1, param2):\n",
    "    #La variable valor va a tener el valor de param2 si el if es verdadero\n",
    "    #de lo contrario tendra el valor de param1\n",
    "    valor = param2 if (param1 < param2) else param1\n",
    "    return valor"
   ]
  },
  {
   "cell_type": "code",
   "execution_count": null,
   "metadata": {},
   "outputs": [
    {
     "name": "stdout",
     "output_type": "stream",
     "text": [
      "El mayor es 11\n"
     ]
    }
   ],
   "source": [
    "print(\"El mayor es {}\". format(obtenerMayor_idim(11, 4)))"
   ]
  },
  {
   "attachments": {},
   "cell_type": "markdown",
   "metadata": {},
   "source": [
    "if-elif-else\n",
    "\n",
    "Este tipo de declaraciones sirve para generar varios casos de prueba.En otros lenguaje es similar a case o switch."
   ]
  },
  {
   "cell_type": "code",
   "execution_count": null,
   "metadata": {},
   "outputs": [],
   "source": [
    "def numeros(num):\n",
    "    if num==1:\n",
    "        print(\"El numero es 1\")\n",
    "    elif num==2:\n",
    "        print(\"El numero es 2\")\n",
    "    elif num==3:\n",
    "        print(\"El numero es 3\")\n",
    "    elif num==4:\n",
    "        print(\"El numero es 4\")\n",
    "    else:\n",
    "        print(\"No hay opcion\")"
   ]
  },
  {
   "cell_type": "code",
   "execution_count": null,
   "metadata": {},
   "outputs": [
    {
     "name": "stdout",
     "output_type": "stream",
     "text": [
      "El numero es 2\n"
     ]
    }
   ],
   "source": [
    "numeros(2)"
   ]
  },
  {
   "cell_type": "code",
   "execution_count": null,
   "metadata": {},
   "outputs": [
    {
     "name": "stdout",
     "output_type": "stream",
     "text": [
      "No hay opcion\n"
     ]
    }
   ],
   "source": [
    "numeros(5)"
   ]
  },
  {
   "attachments": {},
   "cell_type": "markdown",
   "metadata": {},
   "source": [
    "En algunos casos, se puede evitar la repetición de codigo del if-elif-else de la siguiente manera:"
   ]
  },
  {
   "cell_type": "code",
   "execution_count": null,
   "metadata": {},
   "outputs": [],
   "source": [
    "def numeros_idim(num):\n",
    "    #La tupla tiene los opciones validas\n",
    "    if num in (1,2,3,4):\n",
    "        print(\"Tu numero es {}\".format(num))\n",
    "    else:\n",
    "        print(\"{} no es una opción\".format(num))"
   ]
  },
  {
   "cell_type": "code",
   "execution_count": null,
   "metadata": {},
   "outputs": [
    {
     "name": "stdout",
     "output_type": "stream",
     "text": [
      "Tu numero es 2\n"
     ]
    }
   ],
   "source": [
    "numeros_idim(2)"
   ]
  },
  {
   "cell_type": "code",
   "execution_count": null,
   "metadata": {},
   "outputs": [
    {
     "name": "stdout",
     "output_type": "stream",
     "text": [
      "5 no es una opción\n"
     ]
    }
   ],
   "source": [
    "numeros_idim(5)"
   ]
  },
  {
   "attachments": {},
   "cell_type": "markdown",
   "metadata": {},
   "source": [
    "."
   ]
  },
  {
   "attachments": {},
   "cell_type": "markdown",
   "metadata": {},
   "source": [
    "ESTRUCTURAS DE CONTROL ANIDADAS"
   ]
  },
  {
   "cell_type": "code",
   "execution_count": null,
   "metadata": {},
   "outputs": [],
   "source": [
    "def obtenerMasGrandE(a, b, c):\n",
    "    if a > b:\n",
    "        if a > c:\n",
    "            return a\n",
    "        else: \n",
    "            return c\n",
    "    else: \n",
    "        if b > c:\n",
    "            return b\n",
    "        else:\n",
    "            return c"
   ]
  },
  {
   "cell_type": "code",
   "execution_count": null,
   "metadata": {},
   "outputs": [
    {
     "name": "stdout",
     "output_type": "stream",
     "text": [
      "El mas grande es 17\n"
     ]
    }
   ],
   "source": [
    "print(\"El mas grande es {}\".format(obtenerMasGrandE(7, 17, 13)))"
   ]
  },
  {
   "attachments": {},
   "cell_type": "markdown",
   "metadata": {},
   "source": [
    "."
   ]
  },
  {
   "attachments": {},
   "cell_type": "markdown",
   "metadata": {},
   "source": [
    "ESTRUCTURAS DE CONTROL REPETITIVAS"
   ]
  },
  {
   "attachments": {},
   "cell_type": "markdown",
   "metadata": {},
   "source": [
    "Ciclo while\n",
    "\n",
    "Un ciclo es la manera de ejecutar una o varias acciones repetidamente. A diferencia de las estructuras IF o IF-ELSE que sólo se ejecutan una vez. Para que el ciclo se ejecute, la condición siempre tiene que ser verdadera."
   ]
  },
  {
   "cell_type": "code",
   "execution_count": null,
   "metadata": {},
   "outputs": [],
   "source": [
    "#Ejemplo 1\n",
    "def cuenta(limite):\n",
    "    i = limite\n",
    "    while True:\n",
    "        print(i)\n",
    "        i = i-1\n",
    "        if i == 0:\n",
    "            break   #Rompe el ciclo"
   ]
  },
  {
   "cell_type": "code",
   "execution_count": null,
   "metadata": {},
   "outputs": [
    {
     "name": "stdout",
     "output_type": "stream",
     "text": [
      "10\n",
      "9\n",
      "8\n",
      "7\n",
      "6\n",
      "5\n",
      "4\n",
      "3\n",
      "2\n",
      "1\n"
     ]
    }
   ],
   "source": [
    "cuenta(10)"
   ]
  },
  {
   "cell_type": "code",
   "execution_count": null,
   "metadata": {},
   "outputs": [],
   "source": [
    "#Ejemplo 2\n",
    "def factorial(n):\n",
    "    i = 2\n",
    "    tmp = 1\n",
    "    while i < n + 1:\n",
    "        tmp = tmp * i\n",
    "        i = i + 1\n",
    "    return tmp"
   ]
  },
  {
   "cell_type": "code",
   "execution_count": null,
   "metadata": {},
   "outputs": [
    {
     "name": "stdout",
     "output_type": "stream",
     "text": [
      "24\n"
     ]
    }
   ],
   "source": [
    "print(factorial(4))"
   ]
  },
  {
   "cell_type": "code",
   "execution_count": null,
   "metadata": {},
   "outputs": [
    {
     "name": "stdout",
     "output_type": "stream",
     "text": [
      "720\n"
     ]
    }
   ],
   "source": [
    "print(factorial(6))"
   ]
  },
  {
   "attachments": {},
   "cell_type": "markdown",
   "metadata": {},
   "source": [
    "Ciclo for\n",
    "\n",
    "Este ciclo es el más común usado en Python, se utiliza generalmente para hacer iteraciones en una lista, diccionarios y arreglos."
   ]
  },
  {
   "attachments": {},
   "cell_type": "markdown",
   "metadata": {},
   "source": [
    "Iteraciones en lista"
   ]
  },
  {
   "cell_type": "code",
   "execution_count": null,
   "metadata": {},
   "outputs": [
    {
     "name": "stdout",
     "output_type": "stream",
     "text": [
      "1\n",
      "2\n",
      "3\n",
      "4\n",
      "5\n"
     ]
    }
   ],
   "source": [
    "for x in [1,2,3,4,5]:\n",
    "    print(x)"
   ]
  },
  {
   "cell_type": "code",
   "execution_count": null,
   "metadata": {},
   "outputs": [
    {
     "name": "stdout",
     "output_type": "stream",
     "text": [
      "0\n",
      "1\n",
      "2\n",
      "3\n",
      "4\n"
     ]
    }
   ],
   "source": [
    "#La funcion range() sirve para generar una lista\n",
    "for x in range(5):  #Este caso es equivalente a range(1,5)\n",
    "    print(x)"
   ]
  },
  {
   "cell_type": "code",
   "execution_count": null,
   "metadata": {},
   "outputs": [
    {
     "name": "stdout",
     "output_type": "stream",
     "text": [
      "-5\n",
      "-4\n",
      "-3\n",
      "-2\n",
      "-1\n",
      "0\n",
      "1\n"
     ]
    }
   ],
   "source": [
    "#También puede inizializar desde numeros negativio\n",
    "for x in range(-5,2):\n",
    "    print(x)"
   ]
  },
  {
   "cell_type": "code",
   "execution_count": null,
   "metadata": {},
   "outputs": [
    {
     "name": "stdout",
     "output_type": "stream",
     "text": [
      "uno\n",
      "dos\n",
      "tres\n",
      "cuatro\n"
     ]
    }
   ],
   "source": [
    "for num in [\"uno\", \"dos\", \"tres\", \"cuatro\"]:\n",
    "    print(num)"
   ]
  },
  {
   "attachments": {},
   "cell_type": "markdown",
   "metadata": {},
   "source": [
    "."
   ]
  },
  {
   "attachments": {},
   "cell_type": "markdown",
   "metadata": {},
   "source": [
    "ITERACIÓN EN DICCIONARIOS"
   ]
  },
  {
   "cell_type": "code",
   "execution_count": null,
   "metadata": {},
   "outputs": [
    {
     "name": "stdout",
     "output_type": "stream",
     "text": [
      "hidrogeno  ==  1\n",
      "helio  ==  2\n",
      "carbo  ==  6\n"
     ]
    }
   ],
   "source": [
    "#Creando un diccionario\n",
    "elementos = {'hidrogeno': 1, 'helio': 2, 'carbo': 6}\n",
    "\n",
    "for llave, valor in elementos.items():\n",
    "    print(llave, \" == \", valor)"
   ]
  },
  {
   "cell_type": "code",
   "execution_count": null,
   "metadata": {},
   "outputs": [
    {
     "name": "stdout",
     "output_type": "stream",
     "text": [
      "hidrogeno\n",
      "helio\n",
      "carbo\n"
     ]
    }
   ],
   "source": [
    "#Obteniendo sólo las llaves\n",
    "\n",
    "for llave in elementos.keys():\n",
    "    print(llave)"
   ]
  },
  {
   "cell_type": "code",
   "execution_count": null,
   "metadata": {},
   "outputs": [
    {
     "name": "stdout",
     "output_type": "stream",
     "text": [
      "1\n",
      "2\n",
      "6\n"
     ]
    }
   ],
   "source": [
    "#Obteniendo sólo los valores\n",
    "\n",
    "for valor in elementos.values():\n",
    "    print(valor)"
   ]
  },
  {
   "attachments": {},
   "cell_type": "markdown",
   "metadata": {},
   "source": [
    "En algunos lenguajes de programación se crea un indice para iterar un conjunto de elementos (for(int i=0, i < elementos.size(), ++i);), sin embargo con Python se puede utilizar la función enumeración() en su lugar."
   ]
  },
  {
   "cell_type": "code",
   "execution_count": null,
   "metadata": {},
   "outputs": [
    {
     "name": "stdout",
     "output_type": "stream",
     "text": [
      "El indice es: 0 y el elemento: hidrogeno\n",
      "El indice es: 1 y el elemento: helio\n",
      "El indice es: 2 y el elemento: carbo\n"
     ]
    }
   ],
   "source": [
    "#Si se necesita iterar utilizando un indice\n",
    "for idx, x in enumerate(elementos):\n",
    "    print(\"El indice es: {} y el elemento: {}\".format(idx,x))"
   ]
  },
  {
   "attachments": {},
   "cell_type": "markdown",
   "metadata": {},
   "source": [
    "Los ciclos for pueden hacer uso del else una vez que terminen de iterar, pero no funcionan si se rompe el ciclo."
   ]
  },
  {
   "cell_type": "code",
   "execution_count": null,
   "metadata": {},
   "outputs": [],
   "source": [
    "def cuenta_idion(limite):\n",
    "    for i in range(limite, 0, -1):\n",
    "        print(i)\n",
    "    else:\n",
    "        print(\"Cuenta finalizada\")"
   ]
  },
  {
   "cell_type": "code",
   "execution_count": null,
   "metadata": {},
   "outputs": [
    {
     "name": "stdout",
     "output_type": "stream",
     "text": [
      "5\n",
      "4\n",
      "3\n",
      "2\n",
      "1\n",
      "Cuenta finalizada\n"
     ]
    }
   ],
   "source": [
    "cuenta_idion(5)"
   ]
  },
  {
   "cell_type": "code",
   "execution_count": null,
   "metadata": {},
   "outputs": [],
   "source": [
    "#Se rompe el ciclo y la sentencia else del for no se ejecuta\n",
    "def cuenta_idion2(limite):\n",
    "    for i in range(limite, 0, -1):\n",
    "        print(i)\n",
    "        if i == 3:\n",
    "            break   #Se rompe el ciclo\n",
    "    else:   #corresponde al FOR, \n",
    "        print(\"Cuenta finalizada\")"
   ]
  },
  {
   "cell_type": "code",
   "execution_count": null,
   "metadata": {},
   "outputs": [
    {
     "name": "stdout",
     "output_type": "stream",
     "text": [
      "5\n",
      "4\n",
      "3\n"
     ]
    }
   ],
   "source": [
    "cuenta_idion2(5)"
   ]
  },
  {
   "cell_type": "markdown",
   "metadata": {},
   "source": [
    "."
   ]
  },
  {
   "attachments": {},
   "cell_type": "markdown",
   "metadata": {},
   "source": [
    "BIBLIOTECAS"
   ]
  },
  {
   "attachments": {},
   "cell_type": "markdown",
   "metadata": {},
   "source": [
    "Todas las funcionalidades de Python son proporcionadas a través de bibliotecas que se encuentran en la colección de The Python Standard Library, la mayoría de estas bibliotecas son multi-plataforma.\n",
    "\n",
    "Referencia del lenguaje: https://docs.python.org/3/reference/index.html\n",
    "\n",
    "Bibliotecas estándar: https://docs.python.org/3/library/"
   ]
  },
  {
   "cell_type": "code",
   "execution_count": null,
   "metadata": {},
   "outputs": [
    {
     "name": "stdout",
     "output_type": "stream",
     "text": [
      "-1.0\n"
     ]
    }
   ],
   "source": [
    "#Para utilizar una biblioteca , esta se debe de importar\n",
    "import math\n",
    "\n",
    "x = math.cos(math.pi)\n",
    "\n",
    "print(x)"
   ]
  },
  {
   "cell_type": "code",
   "execution_count": null,
   "metadata": {},
   "outputs": [
    {
     "name": "stdout",
     "output_type": "stream",
     "text": [
      "-1.0\n"
     ]
    }
   ],
   "source": [
    "#También se puede importar todas las funciones de la bibliotecas, de esta manera no se\n",
    "#tiene que usar el prefijo de la biblioteca que en el ejemplo anterior fue math\n",
    "from math import *\n",
    "\n",
    "x = cos(pi) #No se utiliza el prefijo math\n",
    "\n",
    "print(x)"
   ]
  },
  {
   "cell_type": "code",
   "execution_count": null,
   "metadata": {},
   "outputs": [
    {
     "name": "stdout",
     "output_type": "stream",
     "text": [
      "-1.0\n"
     ]
    }
   ],
   "source": [
    "#Otra manera es importar solo las funciones que se utilizaran\n",
    "from math import  cos, pi\n",
    "\n",
    "x = cos(pi)\n",
    "\n",
    "print(x)"
   ]
  },
  {
   "cell_type": "code",
   "execution_count": null,
   "metadata": {},
   "outputs": [
    {
     "name": "stdout",
     "output_type": "stream",
     "text": [
      "['__doc__', '__loader__', '__name__', '__package__', '__spec__', 'acos', 'acosh', 'asin', 'asinh', 'atan', 'atan2', 'atanh', 'ceil', 'comb', 'copysign', 'cos', 'cosh', 'degrees', 'dist', 'e', 'erf', 'erfc', 'exp', 'expm1', 'fabs', 'factorial', 'floor', 'fmod', 'frexp', 'fsum', 'gamma', 'gcd', 'hypot', 'inf', 'isclose', 'isfinite', 'isinf', 'isnan', 'isqrt', 'lcm', 'ldexp', 'lgamma', 'log', 'log10', 'log1p', 'log2', 'modf', 'nan', 'nextafter', 'perm', 'pi', 'pow', 'prod', 'radians', 'remainder', 'sin', 'sinh', 'sqrt', 'tan', 'tanh', 'tau', 'trunc', 'ulp']\n"
     ]
    }
   ],
   "source": [
    "#Una vez que la biblioteca está importada, se pueden conocer las funciones que ésta \n",
    "#contiene\n",
    "\n",
    "print(dir(math))"
   ]
  },
  {
   "cell_type": "code",
   "execution_count": null,
   "metadata": {},
   "outputs": [
    {
     "name": "stdout",
     "output_type": "stream",
     "text": [
      "Help on built-in function log in module math:\n",
      "\n",
      "log(...)\n",
      "    log(x, [base=math.e])\n",
      "    Return the logarithm of x to the given base.\n",
      "    \n",
      "    If the base not specified, returns the natural logarithm (base e) of x.\n",
      "\n"
     ]
    }
   ],
   "source": [
    "#Para conocer cómo utilizar las funciones, se puede utilizar la funcion help\n",
    "\n",
    "help(math.log)"
   ]
  },
  {
   "cell_type": "code",
   "execution_count": null,
   "metadata": {},
   "outputs": [
    {
     "name": "stdout",
     "output_type": "stream",
     "text": [
      "-1.0\n"
     ]
    }
   ],
   "source": [
    "#Se puede definir un alias para llamar a las funciones que tiene la biblioteca math.\n",
    "#Esta es la forma más recomendada para importar, ya que de esta manera se sabe de que módulo\n",
    "#proviene la función\n",
    "import math as ma\n",
    "\n",
    "x = ma.cos(ma.pi)\n",
    "\n",
    "print(x)"
   ]
  },
  {
   "attachments": {},
   "cell_type": "markdown",
   "metadata": {},
   "source": [
    "."
   ]
  },
  {
   "attachments": {},
   "cell_type": "markdown",
   "metadata": {},
   "source": [
    "GRAFICACIÓN"
   ]
  },
  {
   "attachments": {},
   "cell_type": "markdown",
   "metadata": {},
   "source": [
    "Matplotlib (http://matplotlib.org/) es una biblioteca usada para generar gráficas en 2D y 3D, donde cada una de las configuraciones de la gráfica es programable. En el siguiente ejemplo se mostrará la configuración básica de una gráfica.\n",
    "\n",
    "EL API de matplotlib se encuentra en http://matplotlib.org/api/index.html"
   ]
  },
  {
   "cell_type": "code",
   "execution_count": null,
   "metadata": {},
   "outputs": [],
   "source": [
    "#Esta linea se ocupa para que las gráficas que se generen queden estaticas de \n",
    "#la pagína\n",
    "\n",
    "#%pylab inline\n",
    "%matplotlib inline"
   ]
  },
  {
   "cell_type": "code",
   "execution_count": null,
   "metadata": {},
   "outputs": [],
   "source": [
    "#Importando las bibliotecas\n",
    "import matplotlib.pyplot as plt\n",
    "from npl_toolkits.nplot3d import Axes3D"
   ]
  },
  {
   "cell_type": "code",
   "execution_count": null,
   "metadata": {},
   "outputs": [],
   "source": [
    "#Datos de entrada\n",
    "x = linspace(0,5,20)    #Genera 10 puntos entre 0 y 5 "
   ]
  },
  {
   "cell_type": "code",
   "execution_count": null,
   "metadata": {},
   "outputs": [],
   "source": [
    "fig, ax = plt.subplots(facecolor='w', edgecolor='k')\n",
    "ax.plot(x, sin(x), marker='x', color='b', linestyle='None')\n",
    "\n",
    "ax.grid(True)\n",
    "ax.set_xlabel('X')\n",
    "ax.set_ylabel('Y')\n",
    "ax.grid(True)\n",
    "ax.legend(\"y = log(x)\")\n",
    "\n",
    "plt.title(\"Puntos\")\n",
    "plt.show()\n",
    "\n",
    "fig.savefig(\"grafica.png\")  #Guarda la gráfica"
   ]
  }
 ],
 "metadata": {
  "kernelspec": {
   "display_name": "Python 3",
   "language": "python",
   "name": "python3"
  },
  "language_info": {
   "codemirror_mode": {
    "name": "ipython",
    "version": 3
   },
   "file_extension": ".py",
   "mimetype": "text/x-python",
   "name": "python",
   "nbconvert_exporter": "python",
   "pygments_lexer": "ipython3",
   "version": "3.10.6"
  },
  "orig_nbformat": 4
 },
 "nbformat": 4,
 "nbformat_minor": 2
}
